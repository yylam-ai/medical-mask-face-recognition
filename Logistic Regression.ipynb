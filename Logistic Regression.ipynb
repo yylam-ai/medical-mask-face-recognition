{
  "nbformat": 4,
  "nbformat_minor": 0,
  "metadata": {
    "colab": {
      "name": "Logistic_Regression_(KERAS).ipynb",
      "provenance": [],
      "collapsed_sections": []
    },
    "kernelspec": {
      "name": "python3",
      "display_name": "Python 3"
    },
    "accelerator": "GPU"
  },
  "cells": [
    {
      "cell_type": "markdown",
      "metadata": {
        "id": "fq1eZiyWucUU"
      },
      "source": [
        "<h3>Setup</h3>"
      ]
    },
    {
      "cell_type": "code",
      "metadata": {
        "id": "mrlWOyRrjnG3"
      },
      "source": [
        "import h5py\r\n",
        "import numpy as np\r\n",
        "import tensorflow as tf\r\n",
        "from tensorflow import keras\r\n",
        "from tensorflow.keras import layers\r\n",
        "import matplotlib.pyplot as plt"
      ],
      "execution_count": 1,
      "outputs": []
    },
    {
      "cell_type": "markdown",
      "metadata": {
        "id": "T1c5Cy4quiJ_"
      },
      "source": [
        "<h3>Mount with Google Drive</h3>"
      ]
    },
    {
      "cell_type": "code",
      "metadata": {
        "colab": {
          "base_uri": "https://localhost:8080/"
        },
        "id": "Ej8-bp9iZtfH",
        "outputId": "7dea9af6-0ad9-4795-f19e-be8beb750797"
      },
      "source": [
        "from google.colab import drive\n",
        "drive.mount('/content/drive')"
      ],
      "execution_count": 2,
      "outputs": [
        {
          "output_type": "stream",
          "text": [
            "Mounted at /content/drive\n"
          ],
          "name": "stdout"
        }
      ]
    },
    {
      "cell_type": "code",
      "metadata": {
        "id": "rOauC_uxkJEK",
        "colab": {
          "base_uri": "https://localhost:8080/"
        },
        "outputId": "cf3858de-7e8a-4736-b11c-a03b8566db5a"
      },
      "source": [
        "%cd /content/drive/MyDrive/Trial Project (ML)/datasets/"
      ],
      "execution_count": 3,
      "outputs": [
        {
          "output_type": "stream",
          "text": [
            "/content/drive/MyDrive/Trial Project (ML)/datasets\n"
          ],
          "name": "stdout"
        }
      ]
    },
    {
      "cell_type": "markdown",
      "metadata": {
        "id": "-1FTJVUPunX7"
      },
      "source": [
        "<h3>Load Dataset</h3>"
      ]
    },
    {
      "cell_type": "code",
      "metadata": {
        "id": "AOU7FYtGajQR"
      },
      "source": [
        "import h5py\n",
        "hf = h5py.File('datasets.h5', 'r')"
      ],
      "execution_count": 4,
      "outputs": []
    },
    {
      "cell_type": "code",
      "metadata": {
        "id": "5j-OH6udR8RG"
      },
      "source": [
        "a = np.array(hf[\"/X\"]).astype(\"uint8\")\r\n",
        "b = np.array(hf[\"/y\"]).astype(\"uint8\")"
      ],
      "execution_count": 5,
      "outputs": []
    },
    {
      "cell_type": "code",
      "metadata": {
        "colab": {
          "base_uri": "https://localhost:8080/"
        },
        "id": "NNb3g7JMW7tg",
        "outputId": "e475c241-f94c-44de-94a8-e9598d3caea2"
      },
      "source": [
        "print(a.shape)\r\n",
        "print(b.shape)"
      ],
      "execution_count": 6,
      "outputs": [
        {
          "output_type": "stream",
          "text": [
            "(80500, 49152, 1)\n",
            "(80500,)\n"
          ],
          "name": "stdout"
        }
      ]
    },
    {
      "cell_type": "markdown",
      "metadata": {
        "id": "-JnApoFWuqhK"
      },
      "source": [
        "<h3>Reshape data</h3>"
      ]
    },
    {
      "cell_type": "code",
      "metadata": {
        "id": "_aL5iZb0e12f"
      },
      "source": [
        "a = a.reshape(-1, 256*192)"
      ],
      "execution_count": 7,
      "outputs": []
    },
    {
      "cell_type": "code",
      "metadata": {
        "id": "o055njd-bTDD"
      },
      "source": [
        "b = b - 1"
      ],
      "execution_count": 8,
      "outputs": []
    },
    {
      "cell_type": "code",
      "metadata": {
        "colab": {
          "base_uri": "https://localhost:8080/"
        },
        "id": "_vvwmvYcrdXv",
        "outputId": "37079cbd-b673-4280-d1d2-49eb9c0303f4"
      },
      "source": [
        "print(a.shape)\r\n",
        "print(b.shape)"
      ],
      "execution_count": 9,
      "outputs": [
        {
          "output_type": "stream",
          "text": [
            "(80500, 49152)\n",
            "(80500,)\n"
          ],
          "name": "stdout"
        }
      ]
    },
    {
      "cell_type": "markdown",
      "metadata": {
        "id": "YDcSR5MTuvqt"
      },
      "source": [
        "<h3>Split Data</h3>"
      ]
    },
    {
      "cell_type": "code",
      "metadata": {
        "id": "xATwGBoHkS6I"
      },
      "source": [
        "from sklearn.model_selection import train_test_split\r\n",
        "# split the dataset twice\r\n",
        "\r\n",
        "# split into 80% training set and 20% test set\r\n",
        "X_train, X_test, y_train, y_test = train_test_split (a, b, test_size = 0.20, random_state=1)\r\n",
        "\r\n",
        "# from previous training set split into 0.6 training set and 20% validation set\r\n",
        "X_train, X_val, y_train, y_val = train_test_split(X_train, y_train, test_size=0.25, random_state=1)"
      ],
      "execution_count": null,
      "outputs": []
    },
    {
      "cell_type": "code",
      "metadata": {
        "id": "FU9dnBZubXqp"
      },
      "source": [
        "model = tf.keras.Sequential([\r\n",
        "      layers.experimental.preprocessing.Rescaling(1./255),\r\n",
        "      layers.Dense(161, input_shape=(256*192, 1), activation='sigmoid',\r\n",
        "                   kernel_regularizer=keras.regularizers.l2(0.00003))\r\n",
        "])"
      ],
      "execution_count": null,
      "outputs": []
    },
    {
      "cell_type": "markdown",
      "metadata": {
        "id": "vg9_RUeCvCkR"
      },
      "source": [
        "<h3>Compiling Model</h3>"
      ]
    },
    {
      "cell_type": "code",
      "metadata": {
        "id": "s8fb4XcSbH-6"
      },
      "source": [
        "model.compile(optimizer='sgd', loss='sparse_categorical_crossentropy', metrics=['accuracy'])"
      ],
      "execution_count": null,
      "outputs": []
    },
    {
      "cell_type": "markdown",
      "metadata": {
        "id": "Zb5-i5vavFg-"
      },
      "source": [
        "<h3>Training and Evaluating Data</h3>"
      ]
    },
    {
      "cell_type": "code",
      "metadata": {
        "id": "hDVOgwNoE5wQ",
        "colab": {
          "base_uri": "https://localhost:8080/"
        },
        "outputId": "37c088f6-714a-4abe-946a-2d5abf54265c"
      },
      "source": [
        "history = model.fit(X_train, y_train, epochs=100, batch_size=256, validation_data=(X_val, y_val))"
      ],
      "execution_count": null,
      "outputs": [
        {
          "output_type": "stream",
          "text": [
            "Epoch 1/100\n",
            "189/189 [==============================] - 6s 20ms/step - loss: 4.5622 - accuracy: 0.1007 - val_loss: 3.2723 - val_accuracy: 0.2520\n",
            "Epoch 2/100\n",
            "189/189 [==============================] - 3s 17ms/step - loss: 2.8828 - accuracy: 0.3736 - val_loss: 2.5402 - val_accuracy: 0.4535\n",
            "Epoch 3/100\n",
            "189/189 [==============================] - 3s 17ms/step - loss: 2.3841 - accuracy: 0.4786 - val_loss: 2.3837 - val_accuracy: 0.4675\n",
            "Epoch 4/100\n",
            "189/189 [==============================] - 3s 17ms/step - loss: 2.1357 - accuracy: 0.5288 - val_loss: 2.1374 - val_accuracy: 0.5327\n",
            "Epoch 5/100\n",
            "189/189 [==============================] - 3s 17ms/step - loss: 1.9660 - accuracy: 0.5713 - val_loss: 2.0527 - val_accuracy: 0.5362\n",
            "Epoch 6/100\n",
            "189/189 [==============================] - 3s 17ms/step - loss: 1.8864 - accuracy: 0.5907 - val_loss: 1.9006 - val_accuracy: 0.5763\n",
            "Epoch 7/100\n",
            "189/189 [==============================] - 3s 17ms/step - loss: 1.7465 - accuracy: 0.6172 - val_loss: 1.9041 - val_accuracy: 0.5781\n",
            "Epoch 8/100\n",
            "189/189 [==============================] - 3s 17ms/step - loss: 1.6669 - accuracy: 0.6319 - val_loss: 1.8179 - val_accuracy: 0.5859\n",
            "Epoch 9/100\n",
            "189/189 [==============================] - 3s 17ms/step - loss: 1.6023 - accuracy: 0.6475 - val_loss: 1.9223 - val_accuracy: 0.5474\n",
            "Epoch 10/100\n",
            "189/189 [==============================] - 3s 17ms/step - loss: 1.5480 - accuracy: 0.6601 - val_loss: 1.6999 - val_accuracy: 0.6168\n",
            "Epoch 11/100\n",
            "189/189 [==============================] - 3s 17ms/step - loss: 1.4948 - accuracy: 0.6756 - val_loss: 1.7501 - val_accuracy: 0.5993\n",
            "Epoch 12/100\n",
            "189/189 [==============================] - 3s 17ms/step - loss: 1.4590 - accuracy: 0.6806 - val_loss: 1.6615 - val_accuracy: 0.6275\n",
            "Epoch 13/100\n",
            "189/189 [==============================] - 3s 17ms/step - loss: 1.4173 - accuracy: 0.6909 - val_loss: 1.6067 - val_accuracy: 0.6429\n",
            "Epoch 14/100\n",
            "189/189 [==============================] - 3s 17ms/step - loss: 1.3712 - accuracy: 0.7031 - val_loss: 1.5607 - val_accuracy: 0.6548\n",
            "Epoch 15/100\n",
            "189/189 [==============================] - 3s 17ms/step - loss: 1.3351 - accuracy: 0.7102 - val_loss: 1.5658 - val_accuracy: 0.6500\n",
            "Epoch 16/100\n",
            "189/189 [==============================] - 3s 17ms/step - loss: 1.3112 - accuracy: 0.7145 - val_loss: 1.5905 - val_accuracy: 0.6379\n",
            "Epoch 17/100\n",
            "189/189 [==============================] - 3s 17ms/step - loss: 1.2844 - accuracy: 0.7212 - val_loss: 1.5276 - val_accuracy: 0.6569\n",
            "Epoch 18/100\n",
            "189/189 [==============================] - 3s 17ms/step - loss: 1.2529 - accuracy: 0.7282 - val_loss: 1.5142 - val_accuracy: 0.6625\n",
            "Epoch 19/100\n",
            "189/189 [==============================] - 3s 17ms/step - loss: 1.2444 - accuracy: 0.7296 - val_loss: 1.4958 - val_accuracy: 0.6674\n",
            "Epoch 20/100\n",
            "189/189 [==============================] - 3s 17ms/step - loss: 1.2146 - accuracy: 0.7378 - val_loss: 1.5148 - val_accuracy: 0.6618\n",
            "Epoch 21/100\n",
            "189/189 [==============================] - 3s 17ms/step - loss: 1.2068 - accuracy: 0.7394 - val_loss: 1.4541 - val_accuracy: 0.6776\n",
            "Epoch 22/100\n",
            "189/189 [==============================] - 3s 17ms/step - loss: 1.1691 - accuracy: 0.7500 - val_loss: 1.4284 - val_accuracy: 0.6889\n",
            "Epoch 23/100\n",
            "189/189 [==============================] - 3s 17ms/step - loss: 1.1569 - accuracy: 0.7511 - val_loss: 1.4788 - val_accuracy: 0.6662\n",
            "Epoch 24/100\n",
            "189/189 [==============================] - 3s 17ms/step - loss: 1.1494 - accuracy: 0.7538 - val_loss: 1.4594 - val_accuracy: 0.6709\n",
            "Epoch 25/100\n",
            "189/189 [==============================] - 3s 17ms/step - loss: 1.1309 - accuracy: 0.7583 - val_loss: 1.4154 - val_accuracy: 0.6848\n",
            "Epoch 26/100\n",
            "189/189 [==============================] - 3s 17ms/step - loss: 1.1112 - accuracy: 0.7628 - val_loss: 1.4064 - val_accuracy: 0.6868\n",
            "Epoch 27/100\n",
            "189/189 [==============================] - 3s 17ms/step - loss: 1.1033 - accuracy: 0.7644 - val_loss: 1.4224 - val_accuracy: 0.6808\n",
            "Epoch 28/100\n",
            "189/189 [==============================] - 3s 17ms/step - loss: 1.0802 - accuracy: 0.7678 - val_loss: 1.3890 - val_accuracy: 0.6935\n",
            "Epoch 29/100\n",
            "189/189 [==============================] - 3s 17ms/step - loss: 1.0806 - accuracy: 0.7677 - val_loss: 1.4165 - val_accuracy: 0.6789\n",
            "Epoch 30/100\n",
            "189/189 [==============================] - 3s 17ms/step - loss: 1.0588 - accuracy: 0.7754 - val_loss: 1.3623 - val_accuracy: 0.6979\n",
            "Epoch 31/100\n",
            "189/189 [==============================] - 3s 17ms/step - loss: 1.0480 - accuracy: 0.7775 - val_loss: 1.3588 - val_accuracy: 0.6991\n",
            "Epoch 32/100\n",
            "189/189 [==============================] - 3s 17ms/step - loss: 1.0407 - accuracy: 0.7769 - val_loss: 1.3710 - val_accuracy: 0.6952\n",
            "Epoch 33/100\n",
            "189/189 [==============================] - 3s 17ms/step - loss: 1.0091 - accuracy: 0.7871 - val_loss: 1.3790 - val_accuracy: 0.6884\n",
            "Epoch 34/100\n",
            "189/189 [==============================] - 3s 17ms/step - loss: 1.0169 - accuracy: 0.7832 - val_loss: 1.3417 - val_accuracy: 0.7021\n",
            "Epoch 35/100\n",
            "189/189 [==============================] - 3s 17ms/step - loss: 1.0072 - accuracy: 0.7871 - val_loss: 1.4084 - val_accuracy: 0.6746\n",
            "Epoch 36/100\n",
            "189/189 [==============================] - 3s 17ms/step - loss: 0.9961 - accuracy: 0.7895 - val_loss: 1.3616 - val_accuracy: 0.6951\n",
            "Epoch 37/100\n",
            "189/189 [==============================] - 3s 17ms/step - loss: 0.9772 - accuracy: 0.7928 - val_loss: 1.3387 - val_accuracy: 0.6976\n",
            "Epoch 38/100\n",
            "189/189 [==============================] - 3s 17ms/step - loss: 0.9706 - accuracy: 0.7954 - val_loss: 1.3397 - val_accuracy: 0.7009\n",
            "Epoch 39/100\n",
            "189/189 [==============================] - 3s 17ms/step - loss: 0.9567 - accuracy: 0.8019 - val_loss: 1.3059 - val_accuracy: 0.7109\n",
            "Epoch 40/100\n",
            "189/189 [==============================] - 3s 17ms/step - loss: 0.9445 - accuracy: 0.8037 - val_loss: 1.3073 - val_accuracy: 0.7114\n",
            "Epoch 41/100\n",
            "189/189 [==============================] - 3s 17ms/step - loss: 0.9311 - accuracy: 0.8073 - val_loss: 1.3176 - val_accuracy: 0.7033\n",
            "Epoch 42/100\n",
            "189/189 [==============================] - 3s 17ms/step - loss: 0.9225 - accuracy: 0.8075 - val_loss: 1.3060 - val_accuracy: 0.7099\n",
            "Epoch 43/100\n",
            "189/189 [==============================] - 3s 17ms/step - loss: 0.9125 - accuracy: 0.8071 - val_loss: 1.3584 - val_accuracy: 0.6914\n",
            "Epoch 44/100\n",
            "189/189 [==============================] - 3s 17ms/step - loss: 0.9222 - accuracy: 0.8069 - val_loss: 1.2977 - val_accuracy: 0.7115\n",
            "Epoch 45/100\n",
            "189/189 [==============================] - 3s 17ms/step - loss: 0.9025 - accuracy: 0.8126 - val_loss: 1.3019 - val_accuracy: 0.7090\n",
            "Epoch 46/100\n",
            "189/189 [==============================] - 3s 17ms/step - loss: 0.9026 - accuracy: 0.8109 - val_loss: 1.2967 - val_accuracy: 0.7110\n",
            "Epoch 47/100\n",
            "189/189 [==============================] - 3s 17ms/step - loss: 0.8844 - accuracy: 0.8171 - val_loss: 1.2837 - val_accuracy: 0.7130\n",
            "Epoch 48/100\n",
            "189/189 [==============================] - 3s 17ms/step - loss: 0.8797 - accuracy: 0.8170 - val_loss: 1.2612 - val_accuracy: 0.7211\n",
            "Epoch 49/100\n",
            "189/189 [==============================] - 3s 17ms/step - loss: 0.8764 - accuracy: 0.8166 - val_loss: 1.2694 - val_accuracy: 0.7183\n",
            "Epoch 50/100\n",
            "189/189 [==============================] - 3s 17ms/step - loss: 0.8617 - accuracy: 0.8219 - val_loss: 1.2784 - val_accuracy: 0.7174\n",
            "Epoch 51/100\n",
            "189/189 [==============================] - 3s 17ms/step - loss: 0.8561 - accuracy: 0.8215 - val_loss: 1.2759 - val_accuracy: 0.7159\n",
            "Epoch 52/100\n",
            "189/189 [==============================] - 3s 17ms/step - loss: 0.8584 - accuracy: 0.8218 - val_loss: 1.2623 - val_accuracy: 0.7180\n",
            "Epoch 53/100\n",
            "189/189 [==============================] - 3s 17ms/step - loss: 0.8550 - accuracy: 0.8228 - val_loss: 1.2561 - val_accuracy: 0.7222\n",
            "Epoch 54/100\n",
            "189/189 [==============================] - 3s 17ms/step - loss: 0.8516 - accuracy: 0.8225 - val_loss: 1.2608 - val_accuracy: 0.7203\n",
            "Epoch 55/100\n",
            "189/189 [==============================] - 3s 17ms/step - loss: 0.8422 - accuracy: 0.8269 - val_loss: 1.2839 - val_accuracy: 0.7106\n",
            "Epoch 56/100\n",
            "189/189 [==============================] - 3s 17ms/step - loss: 0.8190 - accuracy: 0.8302 - val_loss: 1.2440 - val_accuracy: 0.7252\n",
            "Epoch 57/100\n",
            "189/189 [==============================] - 3s 17ms/step - loss: 0.8173 - accuracy: 0.8301 - val_loss: 1.2646 - val_accuracy: 0.7183\n",
            "Epoch 58/100\n",
            "189/189 [==============================] - 3s 17ms/step - loss: 0.8198 - accuracy: 0.8340 - val_loss: 1.2391 - val_accuracy: 0.7270\n",
            "Epoch 59/100\n",
            "189/189 [==============================] - 3s 17ms/step - loss: 0.8269 - accuracy: 0.8304 - val_loss: 1.2636 - val_accuracy: 0.7165\n",
            "Epoch 60/100\n",
            "189/189 [==============================] - 3s 17ms/step - loss: 0.8073 - accuracy: 0.8352 - val_loss: 1.2402 - val_accuracy: 0.7265\n",
            "Epoch 61/100\n",
            "189/189 [==============================] - 3s 17ms/step - loss: 0.8015 - accuracy: 0.8364 - val_loss: 1.2386 - val_accuracy: 0.7265\n",
            "Epoch 62/100\n",
            "189/189 [==============================] - 3s 17ms/step - loss: 0.7869 - accuracy: 0.8398 - val_loss: 1.2413 - val_accuracy: 0.7245\n",
            "Epoch 63/100\n",
            "189/189 [==============================] - 3s 17ms/step - loss: 0.7849 - accuracy: 0.8412 - val_loss: 1.2464 - val_accuracy: 0.7221\n",
            "Epoch 64/100\n",
            "189/189 [==============================] - 3s 17ms/step - loss: 0.7726 - accuracy: 0.8438 - val_loss: 1.2592 - val_accuracy: 0.7160\n",
            "Epoch 65/100\n",
            "189/189 [==============================] - 3s 17ms/step - loss: 0.7799 - accuracy: 0.8419 - val_loss: 1.2312 - val_accuracy: 0.7258\n",
            "Epoch 66/100\n",
            "189/189 [==============================] - 3s 17ms/step - loss: 0.7796 - accuracy: 0.8411 - val_loss: 1.2127 - val_accuracy: 0.7311\n",
            "Epoch 67/100\n",
            "189/189 [==============================] - 3s 17ms/step - loss: 0.7687 - accuracy: 0.8439 - val_loss: 1.2293 - val_accuracy: 0.7266\n",
            "Epoch 68/100\n",
            "189/189 [==============================] - 3s 17ms/step - loss: 0.7564 - accuracy: 0.8460 - val_loss: 1.2414 - val_accuracy: 0.7262\n",
            "Epoch 69/100\n",
            "189/189 [==============================] - 3s 17ms/step - loss: 0.7663 - accuracy: 0.8456 - val_loss: 1.2176 - val_accuracy: 0.7294\n",
            "Epoch 70/100\n",
            "189/189 [==============================] - 3s 17ms/step - loss: 0.7591 - accuracy: 0.8462 - val_loss: 1.2271 - val_accuracy: 0.7280\n",
            "Epoch 71/100\n",
            "189/189 [==============================] - 3s 17ms/step - loss: 0.7582 - accuracy: 0.8452 - val_loss: 1.2157 - val_accuracy: 0.7334\n",
            "Epoch 72/100\n",
            "189/189 [==============================] - 3s 17ms/step - loss: 0.7435 - accuracy: 0.8501 - val_loss: 1.2412 - val_accuracy: 0.7230\n",
            "Epoch 73/100\n",
            "189/189 [==============================] - 3s 17ms/step - loss: 0.7470 - accuracy: 0.8506 - val_loss: 1.2200 - val_accuracy: 0.7292\n",
            "Epoch 74/100\n",
            "189/189 [==============================] - 3s 17ms/step - loss: 0.7316 - accuracy: 0.8530 - val_loss: 1.2079 - val_accuracy: 0.7299\n",
            "Epoch 75/100\n",
            "189/189 [==============================] - 3s 17ms/step - loss: 0.7280 - accuracy: 0.8552 - val_loss: 1.2321 - val_accuracy: 0.7248\n",
            "Epoch 76/100\n",
            "189/189 [==============================] - 3s 18ms/step - loss: 0.7230 - accuracy: 0.8551 - val_loss: 1.2101 - val_accuracy: 0.7306\n",
            "Epoch 77/100\n",
            "189/189 [==============================] - 3s 17ms/step - loss: 0.7184 - accuracy: 0.8559 - val_loss: 1.2110 - val_accuracy: 0.7315\n",
            "Epoch 78/100\n",
            "189/189 [==============================] - 3s 17ms/step - loss: 0.7160 - accuracy: 0.8568 - val_loss: 1.2597 - val_accuracy: 0.7157\n",
            "Epoch 79/100\n",
            "189/189 [==============================] - 3s 17ms/step - loss: 0.7161 - accuracy: 0.8571 - val_loss: 1.2123 - val_accuracy: 0.7315\n",
            "Epoch 80/100\n",
            "189/189 [==============================] - 3s 17ms/step - loss: 0.7071 - accuracy: 0.8570 - val_loss: 1.2147 - val_accuracy: 0.7302\n",
            "Epoch 81/100\n",
            "189/189 [==============================] - 3s 17ms/step - loss: 0.7042 - accuracy: 0.8614 - val_loss: 1.2069 - val_accuracy: 0.7311\n",
            "Epoch 82/100\n",
            "189/189 [==============================] - 3s 17ms/step - loss: 0.7049 - accuracy: 0.8605 - val_loss: 1.2074 - val_accuracy: 0.7335\n",
            "Epoch 83/100\n",
            "189/189 [==============================] - 3s 17ms/step - loss: 0.6964 - accuracy: 0.8621 - val_loss: 1.2016 - val_accuracy: 0.7333\n",
            "Epoch 84/100\n",
            "189/189 [==============================] - 3s 17ms/step - loss: 0.6889 - accuracy: 0.8651 - val_loss: 1.2015 - val_accuracy: 0.7351\n",
            "Epoch 85/100\n",
            "189/189 [==============================] - 3s 17ms/step - loss: 0.6935 - accuracy: 0.8618 - val_loss: 1.2194 - val_accuracy: 0.7298\n",
            "Epoch 86/100\n",
            "189/189 [==============================] - 3s 17ms/step - loss: 0.6811 - accuracy: 0.8655 - val_loss: 1.1971 - val_accuracy: 0.7355\n",
            "Epoch 87/100\n",
            "189/189 [==============================] - 3s 17ms/step - loss: 0.6799 - accuracy: 0.8685 - val_loss: 1.2054 - val_accuracy: 0.7331\n",
            "Epoch 88/100\n",
            "189/189 [==============================] - 3s 17ms/step - loss: 0.6768 - accuracy: 0.8661 - val_loss: 1.1932 - val_accuracy: 0.7372\n",
            "Epoch 89/100\n",
            "189/189 [==============================] - 3s 17ms/step - loss: 0.6709 - accuracy: 0.8687 - val_loss: 1.2020 - val_accuracy: 0.7294\n",
            "Epoch 90/100\n",
            "189/189 [==============================] - 3s 17ms/step - loss: 0.6694 - accuracy: 0.8695 - val_loss: 1.1965 - val_accuracy: 0.7349\n",
            "Epoch 91/100\n",
            "189/189 [==============================] - 3s 17ms/step - loss: 0.6709 - accuracy: 0.8672 - val_loss: 1.2145 - val_accuracy: 0.7296\n",
            "Epoch 92/100\n",
            "189/189 [==============================] - 3s 17ms/step - loss: 0.6625 - accuracy: 0.8733 - val_loss: 1.2141 - val_accuracy: 0.7284\n",
            "Epoch 93/100\n",
            "189/189 [==============================] - 3s 17ms/step - loss: 0.6451 - accuracy: 0.8743 - val_loss: 1.2079 - val_accuracy: 0.7344\n",
            "Epoch 94/100\n",
            "189/189 [==============================] - 3s 17ms/step - loss: 0.6517 - accuracy: 0.8737 - val_loss: 1.2014 - val_accuracy: 0.7353\n",
            "Epoch 95/100\n",
            "189/189 [==============================] - 3s 17ms/step - loss: 0.6434 - accuracy: 0.8764 - val_loss: 1.1993 - val_accuracy: 0.7350\n",
            "Epoch 96/100\n",
            "189/189 [==============================] - 3s 17ms/step - loss: 0.6509 - accuracy: 0.8736 - val_loss: 1.2150 - val_accuracy: 0.7230\n",
            "Epoch 97/100\n",
            "189/189 [==============================] - 3s 17ms/step - loss: 0.6401 - accuracy: 0.8769 - val_loss: 1.1992 - val_accuracy: 0.7352\n",
            "Epoch 98/100\n",
            "189/189 [==============================] - 3s 17ms/step - loss: 0.6354 - accuracy: 0.8773 - val_loss: 1.1914 - val_accuracy: 0.7378\n",
            "Epoch 99/100\n",
            "189/189 [==============================] - 3s 16ms/step - loss: 0.6466 - accuracy: 0.8745 - val_loss: 1.1915 - val_accuracy: 0.7370\n",
            "Epoch 100/100\n",
            "189/189 [==============================] - 3s 17ms/step - loss: 0.6253 - accuracy: 0.8808 - val_loss: 1.1969 - val_accuracy: 0.7340\n"
          ],
          "name": "stdout"
        }
      ]
    },
    {
      "cell_type": "code",
      "metadata": {
        "id": "YrBa3561deD7",
        "colab": {
          "base_uri": "https://localhost:8080/"
        },
        "outputId": "b636c6ee-5599-496a-e14e-557474b7afd6"
      },
      "source": [
        "eval = model.evaluate(x=X_test, y=y_test)"
      ],
      "execution_count": null,
      "outputs": [
        {
          "output_type": "stream",
          "text": [
            "504/504 [==============================] - 1s 3ms/step - loss: 1.1612 - accuracy: 0.7425\n"
          ],
          "name": "stdout"
        }
      ]
    },
    {
      "cell_type": "code",
      "metadata": {
        "colab": {
          "base_uri": "https://localhost:8080/"
        },
        "id": "C6JUzAzKYkZ0",
        "outputId": "d2ecf313-465a-46d5-d641-0199f349a421"
      },
      "source": [
        "eval"
      ],
      "execution_count": null,
      "outputs": [
        {
          "output_type": "execute_result",
          "data": {
            "text/plain": [
              "[1.1611751317977905, 0.742484450340271]"
            ]
          },
          "metadata": {
            "tags": []
          },
          "execution_count": 14
        }
      ]
    },
    {
      "cell_type": "code",
      "metadata": {
        "colab": {
          "base_uri": "https://localhost:8080/",
          "height": 499
        },
        "id": "ZkFovdHvZ4Yg",
        "outputId": "d7ff4daa-dbce-49a7-bd79-b4800094d8f3"
      },
      "source": [
        "acc = history.history['accuracy']\r\n",
        "val_acc = history.history['val_accuracy']\r\n",
        "\r\n",
        "loss = history.history['loss']\r\n",
        "val_loss = history.history['val_loss']\r\n",
        "\r\n",
        "epochs_range = range(100)\r\n",
        "\r\n",
        "plt.figure(figsize=(8,8))\r\n",
        "plt.subplot(1,2,1)\r\n",
        "plt.plot(epochs_range, acc, label='Training Accuracy')\r\n",
        "plt.plot(epochs_range, val_acc, label='Validation Accuracy')\r\n",
        "plt.legend(loc='lower right')\r\n",
        "plt.title(\"Training and Validation Accuracy\")\r\n",
        "\r\n",
        "plt.subplot(1,2,2)\r\n",
        "plt.plot(epochs_range, loss, label='Training Loss')\r\n",
        "plt.plot(epochs_range, val_loss, label='Validation Loss')\r\n",
        "plt.legend(loc='upper right')\r\n",
        "plt.title(\"Training and Validation Loss\")\r\n",
        "\r\n",
        "plt.show()"
      ],
      "execution_count": null,
      "outputs": [
        {
          "output_type": "display_data",
          "data": {
            "image/png": "[encoded data removed]",
            "text/plain": [
              "<Figure size 576x576 with 2 Axes>"
            ]
          },
          "metadata": {
            "tags": [],
            "needs_background": "light"
          }
        }
      ]
    },
    {
      "cell_type": "markdown",
      "metadata": {
        "id": "PqMHEh8pvLgW"
      },
      "source": [
        "<h3>Use Model to Make Prediction</h3>"
      ]
    },
    {
      "cell_type": "code",
      "metadata": {
        "id": "GMJ1zu67d1UZ",
        "colab": {
          "base_uri": "https://localhost:8080/"
        },
        "outputId": "28d18fbb-7caf-49e8-906c-12c212717e88"
      },
      "source": [
        "X_new = X_test[0:10]\r\n",
        "y_pred_new = model.predict(X_new)\r\n",
        "print(np.argmax(y_pred_new, axis=-1))\r\n",
        "print(y_test[0:10])"
      ],
      "execution_count": null,
      "outputs": [
        {
          "output_type": "stream",
          "text": [
            "[ 37  20 101 141  66  68 103 160 121  30]\n",
            "[114  20 101 141  66  34 103  95  37  30]\n"
          ],
          "name": "stdout"
        }
      ]
    },
    {
      "cell_type": "code",
      "metadata": {
        "colab": {
          "base_uri": "https://localhost:8080/"
        },
        "id": "c8CmXV2KLVyy",
        "outputId": "fb03120b-5354-4996-f116-4c4833a8db31"
      },
      "source": [
        "from sklearn.metrics import confusion_matrix, classification_report\r\n",
        "y_pred = model.predict(X_test)\r\n",
        "y_pred_classes = [np.argmax(element) for element in y_pred]\r\n",
        "print(\"Classification Report: \\n\", classification_report(y_test, y_pred_classes))"
      ],
      "execution_count": null,
      "outputs": [
        {
          "output_type": "stream",
          "text": [
            "Classification Report: \n",
            "               precision    recall  f1-score   support\n",
            "\n",
            "           0       0.57      0.88      0.70        92\n",
            "           1       0.95      0.98      0.96        91\n",
            "           2       0.83      0.91      0.87       100\n",
            "           3       0.83      0.94      0.88        98\n",
            "           4       0.88      0.97      0.92        93\n",
            "           5       0.92      0.91      0.92       102\n",
            "           6       0.83      0.88      0.85       103\n",
            "           7       0.88      0.85      0.86        97\n",
            "           8       0.73      0.82      0.77       108\n",
            "           9       0.82      0.58      0.68       106\n",
            "          10       0.74      0.79      0.77       111\n",
            "          11       0.78      0.75      0.76        97\n",
            "          12       0.51      0.61      0.56        98\n",
            "          13       0.75      0.78      0.76       108\n",
            "          14       0.89      0.98      0.93        87\n",
            "          15       0.72      0.83      0.77        86\n",
            "          16       0.80      0.66      0.72       125\n",
            "          17       0.80      0.80      0.80        98\n",
            "          18       0.78      0.96      0.86        95\n",
            "          19       0.98      0.95      0.96        94\n",
            "          20       0.96      0.98      0.97        91\n",
            "          21       0.69      0.48      0.56       107\n",
            "          22       0.72      0.86      0.79       100\n",
            "          23       0.75      0.63      0.69        97\n",
            "          24       0.92      0.78      0.84       103\n",
            "          25       0.72      0.91      0.80       113\n",
            "          26       0.63      0.72      0.67        85\n",
            "          27       0.95      1.00      0.97       106\n",
            "          28       0.81      0.87      0.84        99\n",
            "          29       0.35      0.16      0.22       123\n",
            "          30       1.00      1.00      1.00       115\n",
            "          31       0.55      0.62      0.59       106\n",
            "          32       0.95      0.99      0.97       107\n",
            "          33       0.71      0.88      0.78        93\n",
            "          34       0.65      0.36      0.46       101\n",
            "          35       0.63      0.50      0.55       109\n",
            "          36       0.44      0.34      0.38        89\n",
            "          37       0.68      0.69      0.69       108\n",
            "          38       0.45      0.76      0.56       109\n",
            "          39       0.84      0.43      0.56       108\n",
            "          40       0.92      0.93      0.93       104\n",
            "          41       0.97      0.95      0.96        97\n",
            "          42       0.95      0.93      0.94       107\n",
            "          43       0.82      0.67      0.74       117\n",
            "          44       0.84      0.64      0.73       103\n",
            "          45       0.42      0.36      0.39        86\n",
            "          46       0.93      0.66      0.77       113\n",
            "          47       0.88      0.64      0.74       108\n",
            "          48       0.74      0.89      0.81        99\n",
            "          49       0.96      0.77      0.85        91\n",
            "          50       0.54      0.39      0.45        95\n",
            "          51       0.76      0.76      0.76       101\n",
            "          52       0.63      0.56      0.59       107\n",
            "          53       0.33      0.50      0.40       104\n",
            "          54       0.37      0.47      0.42       112\n",
            "          55       0.42      0.65      0.51        89\n",
            "          56       0.74      0.55      0.63        91\n",
            "          57       0.41      0.39      0.40       103\n",
            "          58       0.43      0.63      0.51        97\n",
            "          59       0.54      0.39      0.46        99\n",
            "          60       0.61      0.77      0.68        91\n",
            "          61       0.90      0.74      0.81       107\n",
            "          62       0.76      0.66      0.71        91\n",
            "          63       0.80      0.80      0.80        98\n",
            "          64       0.96      0.95      0.96        80\n",
            "          65       0.77      0.69      0.72       105\n",
            "          66       0.69      0.81      0.74       106\n",
            "          67       0.92      0.81      0.86       108\n",
            "          68       0.50      0.75      0.60        93\n",
            "          69       0.78      0.86      0.81        90\n",
            "          70       0.52      0.50      0.51        62\n",
            "          71       0.44      0.52      0.48       105\n",
            "          72       0.69      0.60      0.64       107\n",
            "          73       0.80      0.92      0.86       101\n",
            "          74       0.72      0.89      0.80        95\n",
            "          75       0.92      0.84      0.88       103\n",
            "          76       0.80      0.52      0.63        98\n",
            "          77       0.83      0.89      0.86       101\n",
            "          78       0.85      0.87      0.86        91\n",
            "          79       0.82      0.45      0.58       111\n",
            "          80       0.96      0.91      0.93       110\n",
            "          81       0.94      0.95      0.95       100\n",
            "          82       0.86      0.84      0.85       102\n",
            "          83       0.96      0.92      0.94        98\n",
            "          84       0.47      0.55      0.51       103\n",
            "          85       0.93      0.75      0.83       110\n",
            "          86       0.55      0.76      0.64        88\n",
            "          87       0.61      0.73      0.66        92\n",
            "          88       1.00      0.95      0.97        91\n",
            "          89       0.70      0.49      0.58        88\n",
            "          90       0.85      0.77      0.81       103\n",
            "          91       0.84      0.65      0.73        96\n",
            "          92       0.69      0.55      0.61        96\n",
            "          93       0.90      0.98      0.94       116\n",
            "          94       0.82      0.77      0.79        95\n",
            "          95       0.65      0.69      0.67        94\n",
            "          96       0.69      0.76      0.72        98\n",
            "          97       0.90      0.98      0.94       110\n",
            "          98       0.78      0.83      0.81        95\n",
            "          99       0.85      0.47      0.61        97\n",
            "         100       0.81      0.67      0.73       112\n",
            "         101       0.84      0.76      0.80       118\n",
            "         102       0.88      0.88      0.88        98\n",
            "         103       0.50      0.80      0.62       110\n",
            "         104       0.82      0.64      0.72       107\n",
            "         105       0.57      0.61      0.59        87\n",
            "         106       0.98      0.91      0.95       115\n",
            "         107       0.63      0.72      0.67        93\n",
            "         108       0.64      0.83      0.72        87\n",
            "         109       0.60      0.78      0.68       111\n",
            "         110       0.84      0.33      0.47        98\n",
            "         111       0.91      0.93      0.92       109\n",
            "         112       0.78      0.65      0.71        94\n",
            "         113       0.79      0.65      0.71       116\n",
            "         114       0.78      0.34      0.48        93\n",
            "         115       0.97      0.98      0.97        99\n",
            "         116       0.86      0.89      0.88       104\n",
            "         117       0.62      0.47      0.53       103\n",
            "         118       0.92      0.89      0.91       109\n",
            "         119       0.74      0.93      0.82        86\n",
            "         120       0.47      0.57      0.51        97\n",
            "         121       0.58      0.73      0.65        98\n",
            "         122       0.97      0.96      0.97       106\n",
            "         123       0.55      0.65      0.60        97\n",
            "         124       0.83      0.85      0.84        91\n",
            "         125       0.55      0.78      0.65        86\n",
            "         126       0.61      0.57      0.59        82\n",
            "         127       0.83      0.85      0.84        87\n",
            "         128       0.71      0.63      0.67       103\n",
            "         129       0.97      0.94      0.96        90\n",
            "         130       0.32      0.39      0.35        97\n",
            "         131       0.83      0.81      0.82        91\n",
            "         132       0.95      0.97      0.96       110\n",
            "         133       0.91      0.90      0.91        96\n",
            "         134       0.98      0.46      0.63        93\n",
            "         135       0.74      0.84      0.79       102\n",
            "         136       0.31      0.71      0.43        95\n",
            "         137       0.74      0.81      0.77        96\n",
            "         138       0.90      0.89      0.90       106\n",
            "         139       0.82      0.74      0.78       101\n",
            "         140       0.60      0.56      0.58        79\n",
            "         141       0.88      0.86      0.87       106\n",
            "         142       0.69      0.72      0.70        97\n",
            "         143       0.83      0.91      0.87        85\n",
            "         144       0.80      0.88      0.84       112\n",
            "         145       0.66      0.57      0.61       102\n",
            "         146       0.88      0.81      0.84       114\n",
            "         147       0.71      0.43      0.54        95\n",
            "         148       0.92      0.99      0.96       108\n",
            "         149       0.57      0.47      0.52       102\n",
            "         150       0.99      0.97      0.98        91\n",
            "         151       0.72      0.52      0.60        99\n",
            "         152       0.81      0.80      0.80        98\n",
            "         153       0.89      0.95      0.92       100\n",
            "         154       0.82      0.64      0.72       117\n",
            "         155       0.63      0.66      0.64        97\n",
            "         156       0.91      0.61      0.73        97\n",
            "         157       0.98      1.00      0.99       100\n",
            "         158       0.48      0.62      0.54       103\n",
            "         159       0.90      0.38      0.54        97\n",
            "         160       0.27      0.46      0.34       122\n",
            "\n",
            "    accuracy                           0.73     16100\n",
            "   macro avg       0.75      0.73      0.73     16100\n",
            "weighted avg       0.75      0.73      0.73     16100\n",
            "\n"
          ],
          "name": "stdout"
        }
      ]
    },
    {
      "cell_type": "code",
      "metadata": {
        "id": "6QK9ep5_PvOt"
      },
      "source": [
        ""
      ],
      "execution_count": null,
      "outputs": []
    }
  ]
}